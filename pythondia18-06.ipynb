{
 "cells": [
  {
   "cell_type": "code",
   "execution_count": null,
   "metadata": {},
   "outputs": [],
   "source": [
    "def funcaoLeitura():\n",
    "    for num in [1,2,3,4,5]:\n",
    "        print(\"Número\", num)"
   ]
  },
  {
   "cell_type": "code",
   "execution_count": null,
   "metadata": {},
   "outputs": [],
   "source": [
    "funcaoLeitura()"
   ]
  },
  {
   "cell_type": "code",
   "execution_count": null,
   "metadata": {},
   "outputs": [],
   "source": [
    "def funcaoLeitura():\n",
    "    for num in range(5):\n",
    "        print(\"Número\", num)\n",
    "        \n",
    "funcaoLeitura()"
   ]
  },
  {
   "cell_type": "code",
   "execution_count": null,
   "metadata": {},
   "outputs": [],
   "source": [
    "#Função para somar dois números\n",
    "def addNum(nu1, nu2):\n",
    "    print(\"O primeiro número é:\", nu1)\n",
    "    print(\"O segundo número é:\", nu2)\n",
    "    print(\"A soma dos números é:\", nu1 + nu2)"
   ]
  },
  {
   "cell_type": "code",
   "execution_count": null,
   "metadata": {},
   "outputs": [],
   "source": [
    "addNum()"
   ]
  },
  {
   "cell_type": "code",
   "execution_count": null,
   "metadata": {},
   "outputs": [],
   "source": [
    "addNum(4,3)"
   ]
  },
  {
   "cell_type": "code",
   "execution_count": null,
   "metadata": {},
   "outputs": [],
   "source": [
    "addNum(2,6)"
   ]
  },
  {
   "cell_type": "code",
   "execution_count": null,
   "metadata": {},
   "outputs": [],
   "source": [
    "varGlobal = 10 #Essa é uma variável global\n",
    "\n",
    "def multiplicacao(nu1, nu2):\n",
    "    #Apesar do mesmo nome, é uma variável local:\n",
    "    varGlobal = (nu1 * nu2) #Essa é uma variável local\n",
    "    print(\"Variável da função Multiplica: \", varGlobal)\n",
    "\n",
    "multiplica(5,4)\n",
    "print(varGlobal)"
   ]
  },
  {
   "cell_type": "code",
   "execution_count": null,
   "metadata": {},
   "outputs": [],
   "source": [
    "#Quando não sabemos a quantidade de parâmetros, basta\n",
    "\n",
    "def variosParametros(*parametros):\n",
    "    for n, item in enumerate(parametros):\n",
    "        print(\"Parâmetros\", n, item)\n",
    "    return"
   ]
  },
  {
   "cell_type": "code",
   "execution_count": null,
   "metadata": {},
   "outputs": [],
   "source": [
    "variosParametros('Luquinhas', 'Madá', 'Giggio')"
   ]
  },
  {
   "cell_type": "code",
   "execution_count": null,
   "metadata": {},
   "outputs": [],
   "source": [
    "def soma(n1,n2):\n",
    "    return n1+n2\n",
    "\n",
    "def subtrai(n1,n2):\n",
    "    return n1-n2\n",
    "\n",
    "def multiplica(n1,n2):\n",
    "    return n1*n2\n",
    "\n",
    "def dividir(n1,n2):\n",
    "    return n1/n2"
   ]
  },
  {
   "cell_type": "code",
   "execution_count": 95,
   "metadata": {},
   "outputs": [
    {
     "name": "stdout",
     "output_type": "stream",
     "text": [
      "+===================+\n",
      "| MENU DE OPERAÇÕES |\n",
      "|  1 - Somar        |\n",
      "|  2 - Subtrair     |\n",
      "|  3 - Multiplicar  |\n",
      "|  4 - Dividir      |\n",
      "|  0 - Sair         |\n",
      "+===================+\n",
      "O resultado da divisão é: 2.0\n"
     ]
    }
   ],
   "source": [
    "def soma(n1,n2):\n",
    "    return n1+n2\n",
    "\n",
    "def subtrair(n1,n2):\n",
    "    return n1-n2\n",
    "\n",
    "def multiplicar(n1,n2):\n",
    "    return n1*n2\n",
    "\n",
    "def dividir(n1,n2):\n",
    "    return n1/n2\n",
    "\n",
    "while True:\n",
    "    print(\"+===================+\")\n",
    "    print(\"| MENU DE OPERAÇÕES |\")\n",
    "    print(\"|  1 - Somar        |\")\n",
    "    print(\"|  2 - Subtrair     |\")\n",
    "    print(\"|  3 - Multiplicar  |\")\n",
    "    print(\"|  4 - Dividir      |\")\n",
    "    print(\"|  0 - Sair         |\")\n",
    "    print(\"+===================+\")\n",
    "    \n",
    "    op = int(input(\"Qual operação você deseja?\"))\n",
    "    if op==0:\n",
    "        break\n",
    "    \n",
    "    n1 = int(input(\"Primeiro número:\"))\n",
    "    n2 = int(input(\"Segundo número:\"))\n",
    "\n",
    "    if op==1:\n",
    "        print(\"O resultado da soma é:\", soma(n1,n2))\n",
    "        break\n",
    "    \n",
    "    elif op==2:\n",
    "        print(\"O resultado da subtração é:\",subtrair(n1,n2))\n",
    "        break\n",
    "    elif op==3:\n",
    "        print(\"O resultado da multiplicação é:\",multiplicar(n1,n2))\n",
    "        break\n",
    "    elif op==4:\n",
    "        print(\"O resultado da divisão é:\",dividir(n1,n2))\n",
    "        break\n",
    "    else:\n",
    "        print(\"Digite um número válido\")"
   ]
  }
 ],
 "metadata": {
  "kernelspec": {
   "display_name": "Python 3",
   "language": "python",
   "name": "python3"
  },
  "language_info": {
   "codemirror_mode": {
    "name": "ipython",
    "version": 3
   },
   "file_extension": ".py",
   "mimetype": "text/x-python",
   "name": "python",
   "nbconvert_exporter": "python",
   "pygments_lexer": "ipython3",
   "version": "3.11.9"
  }
 },
 "nbformat": 4,
 "nbformat_minor": 2
}
